{
 "cells": [
  {
   "cell_type": "markdown",
   "metadata": {},
   "source": [
    "# Data Exploration: Mobile Device Usage and User Behavior Dataset\n",
    "\n",
    "---\n",
    "\n",
    " **Kelompok Boki**\n",
    "- Amaul Mursyidin Dzaki - 09011282328024 \n",
    "- s\n",
    "\n",
    "\n",
    "---\n",
    "\n",
    "### Daftar Isi\n",
    "- [Informasi Data](#informasi-data)\n",
    "- [Permasalahan](#pertanyaan)\n",
    "- x\n",
    "- x\n",
    "- x\n",
    "- [Pembahasan Permasalahan]"
   ]
  },
  {
   "cell_type": "markdown",
   "metadata": {},
   "source": [
    "## Informasi Data\n",
    "\n"
   ]
  },
  {
   "cell_type": "markdown",
   "metadata": {},
   "source": [
    "Variabel\n",
    "- User ID - Unique identifier for each user.\n",
    "- Device Model - Model of the user's smartphone.\n",
    "- Operating System - The OS of the device (iOS or Android).\n",
    "- App Usage Time - Daily time spent on mobile applications, measured in minutes.\n",
    "- Screen On Time - Average hours per day the screen is active.\n",
    "- Battery Drain - Daily battery consumption in mAh.\n",
    "- Number of Apps Installed - Total apps available on the device.\n",
    "- Data Usage - Daily mobile data consumption in megabytes.\n",
    "- Age - Age of the user.\n",
    "- Gender - Gender of the user (Male or Female).\n",
    "- User Behavior Class - Classification of user behavior based on usage patterns (1 to 5)."
   ]
  },
  {
   "cell_type": "markdown",
   "metadata": {},
   "source": [
    "## Permasalahan\n",
    "\n"
   ]
  },
  {
   "cell_type": "markdown",
   "metadata": {},
   "source": [
    "### Pertanyaan\n",
    "1. Tipe smartphone yang banyak digunakan berdasarkan gender\n",
    "2. Tingkat pemakaian dan status kecanduan berdasarkan gender\n",
    "3. Model smartphone dengan kualitas dan durabilitas tertinggi\n",
    "4. "
   ]
  },
  {
   "cell_type": "markdown",
   "metadata": {},
   "source": [
    "\n",
    "### Prediksi\n",
    "1. Model smartphone yang laku dimasyarakat 5 tahun \n",
    "2. Prediksi profesi\n",
    "3. Perkiraan pengangguran\n",
    "4. Perlukah kampanye mengurangi penggunaan gadget?"
   ]
  },
  {
   "cell_type": "markdown",
   "metadata": {},
   "source": [
    "## Praktikal\n",
    "\n",
    "---"
   ]
  },
  {
   "cell_type": "markdown",
   "metadata": {},
   "source": [
    "### Import Library"
   ]
  },
  {
   "cell_type": "code",
   "execution_count": 1,
   "metadata": {},
   "outputs": [],
   "source": [
    "import pandas as pd\n",
    "import seaborn as sns\n",
    "import matplotlib.pyplot as plt"
   ]
  },
  {
   "cell_type": "markdown",
   "metadata": {},
   "source": [
    "### Import Dataset"
   ]
  },
  {
   "cell_type": "code",
   "execution_count": null,
   "metadata": {},
   "outputs": [],
   "source": []
  }
 ],
 "metadata": {
  "kernelspec": {
   "display_name": "base",
   "language": "python",
   "name": "python3"
  },
  "language_info": {
   "codemirror_mode": {
    "name": "ipython",
    "version": 3
   },
   "file_extension": ".py",
   "mimetype": "text/x-python",
   "name": "python",
   "nbconvert_exporter": "python",
   "pygments_lexer": "ipython3",
   "version": "3.12.4"
  }
 },
 "nbformat": 4,
 "nbformat_minor": 2
}
