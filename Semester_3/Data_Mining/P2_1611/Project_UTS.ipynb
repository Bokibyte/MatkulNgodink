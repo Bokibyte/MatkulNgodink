{
 "cells": [
  {
   "cell_type": "markdown",
   "metadata": {},
   "source": [
    "# Data Exploration: Mobile Device Usage and User Behavior Dataset\n",
    "\n",
    "---\n",
    "\n",
    " **Kelompok Boki**\n",
    "- Amaul Mursyidin Dzaki - 09011282328024 \n",
    "- s\n",
    "\n",
    "\n",
    "---\n",
    "\n",
    "### Daftar Isi\n",
    "- [Informasi Data](#informasi-data)\n",
    "- [Permasalahan](#pertanyaan)\n"
   ]
  },
  {
   "cell_type": "markdown",
   "metadata": {},
   "source": [
    "## Informasi Data\n",
    "\n",
    "Variabel\n",
    "- User ID - Unique identifier for each user.\n",
    "- Device Model - Model of the user's smartphone.\n",
    "- Operating System - The OS of the device (iOS or Android).\n",
    "- App Usage Time - Daily time spent on mobile applications, measured in minutes.\n",
    "- Screen On Time - Average hours per day the screen is active.\n",
    "- Battery Drain - Daily battery consumption in mAh.\n",
    "- Number of Apps Installed - Total apps available on the device.\n",
    "- Data Usage - Daily mobile data consumption in megabytes.\n",
    "- Age - Age of the user.\n",
    "- Gender - Gender of the user (Male or Female).\n",
    "- User Behavior Class - Classification of user behavior based on usage patterns (1 to 5)."
   ]
  },
  {
   "cell_type": "markdown",
   "metadata": {},
   "source": [
    "## Permasalahan\n",
    "### Pertanyaan\n",
    "1. Tipe smartphone yang banyak dibeli berdasarkan gender\n",
    "2. Tingkat pemakaian dan status kecanduan berdasarkan gender\n",
    "3. Model smartphone dengan kualitas dan durabilitas tertinggi\n",
    "4. \n",
    "\n",
    "### Prediksi\n",
    "1. Model smartphone yang laku dimasyarakat\n",
    "2. "
   ]
  }
 ],
 "metadata": {
  "language_info": {
   "name": "python"
  }
 },
 "nbformat": 4,
 "nbformat_minor": 2
}
