{
 "cells": [
  {
   "cell_type": "markdown",
   "metadata": {},
   "source": [
    "Amalul Mursyidin Dzaki  \n",
    "09011282328024 - SK3C\n",
    "\n",
    "# **Data Exploration and Summary Statistics**\n",
    "\n",
    "---\n",
    "\n",
    "Pada ini, Saya akan melakukan eksplorasi data dan menghitung berbagai statistik deskriptif untuk memahami karakteristik dataset yang diberikan. Anda akan menggunakan *Python* dan library seperti **Pandas**, **NumPy**, dan **Matplotlib/Seaborn** untuk menganalisis dan memvisualisasikan data.\n",
    "\n",
    "\n",
    "## Daftar Isi\n",
    "\n",
    "- [Tujuan Tugas Ini](#Tujuan-Tugas-Ini)\n",
    "- [Langkah & Penyelesaian](#langkah--penyelesaian)\n"
   ]
  },
  {
   "cell_type": "markdown",
   "metadata": {},
   "source": [
    "## Tujuan Tugas Ini\n",
    "\n",
    "Yang saya dapatkan (harapannya) dari menyelesaikan tugas ini:\n",
    "\n",
    "1.\tMemahami cara membaca dan mengimpor dataset ke dalam Python.\n",
    "2.\tMenghitung statistik deskriptif seperti mean, median, mode, standard deviation, variance, dan quartiles.\n",
    "3.\tMelakukan eksplorasi data awal untuk mengidentifikasi pola, outliers, missing values, dan distribusi data.\n",
    "4.\tMembuat visualisasi seperti histograms, box plots, dan scatter plots untuk menggambarkan distribusi dan hubungan antar variabel.\n",
    "5.\tMenulis laporan singkat yang menjelaskan temuan dari eksplorasi data."
   ]
  },
  {
   "cell_type": "markdown",
   "metadata": {},
   "source": [
    "## Langkah & Penyelesaian"
   ]
  },
  {
   "cell_type": "markdown",
   "metadata": {},
   "source": [
    "- ### Import Dataset\n",
    "\n",
    "    Baca dataset yang diberikan menggunakan Pandas.\n",
    "\n",
    "    > Untuk tugas ini, dataset yang cocok adalah dataset tentang kesehatan, seperti dataset Heart Disease UCI dari Kaggle. Dataset ini berisi berbagai variabel terkait kesehatan pasien dan apakah mereka menderita penyakit jantung atau tidak."
   ]
  }
 ],
 "metadata": {
  "kernelspec": {
   "display_name": "base",
   "language": "python",
   "name": "python3"
  },
  "language_info": {
   "name": "python",
   "version": "3.12.4"
  }
 },
 "nbformat": 4,
 "nbformat_minor": 2
}
