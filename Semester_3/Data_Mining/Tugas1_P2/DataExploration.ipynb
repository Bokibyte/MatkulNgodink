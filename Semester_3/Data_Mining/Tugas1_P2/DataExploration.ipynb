{
 "cells": [
  {
   "cell_type": "markdown",
   "metadata": {},
   "source": [
    "Amalul Mursyidin Dzaki  \n",
    "09011282328024 - SK3C\n",
    "\n",
    "# **Data Exploration and Summary Statistics**\n",
    "\n",
    "---\n",
    "\n",
    "Pada ini, Saya akan melakukan eksplorasi data dan menghitung berbagai statistik deskriptif untuk memahami karakteristik dataset yang diberikan. Anda akan menggunakan *Python* dan library seperti **Pandas**, **NumPy**, dan **Matplotlib/Seaborn** untuk menganalisis dan memvisualisasikan data.\n",
    "\n",
    "\n",
    "## Daftar Isi\n",
    "\n",
    "- [Tujuan Tugas Ini](#tujuan-tugas-ini)\n",
    "- [Langkah & Penyelesaian](#langkah-&-penyelesaian)\n",
    "  - [Import Dataset](#import-dataset)\n",
    "  - [Eksplorasi Awal](#eksplorasi-awal)\n",
    "\n"
   ]
  },
  {
   "cell_type": "markdown",
   "metadata": {},
   "source": [
    "## Tujuan Tugas Ini\n",
    "\n",
    "Yang saya dapatkan (harapannya) dari menyelesaikan tugas ini:\n",
    "\n",
    "1.\tMemahami cara membaca dan mengimpor dataset ke dalam Python.\n",
    "2.\tMenghitung statistik deskriptif seperti mean, median, mode, standard deviation, variance, dan quartiles.\n",
    "3.\tMelakukan eksplorasi data awal untuk mengidentifikasi pola, outliers, missing values, dan distribusi data.\n",
    "4.\tMembuat visualisasi seperti histograms, box plots, dan scatter plots untuk menggambarkan distribusi dan hubungan antar variabel.\n",
    "5.\tMenulis laporan singkat yang menjelaskan temuan dari eksplorasi data."
   ]
  },
  {
   "cell_type": "markdown",
   "metadata": {},
   "source": [
    "## Langkah & Penyelesaian"
   ]
  },
  {
   "cell_type": "markdown",
   "metadata": {},
   "source": [
    "### Import Dataset\n",
    "\n",
    "---"
   ]
  },
  {
   "cell_type": "markdown",
   "metadata": {},
   "source": [
    "Baca dataset yang diberikan menggunakan Pandas.\n",
    "\n",
    "> Untuk tugas ini, dataset yang cocok adalah dataset tentang kesehatan, seperti dataset Heart Disease UCI dari Kaggle. Dataset ini berisi berbagai variabel terkait kesehatan pasien dan apakah mereka menderita penyakit jantung atau tidak.\n",
    "\n",
    "Pertama, import dulu package **Pandas** lalu kita inisialisasi (disini kita inisialisasi sebagai pd)."
   ]
  },
  {
   "cell_type": "code",
   "execution_count": 35,
   "metadata": {},
   "outputs": [],
   "source": [
    "import pandas as pd\n",
    "\n",
    "df = pd.read_csv('heart_disease_uci.csv')"
   ]
  },
  {
   "cell_type": "markdown",
   "metadata": {},
   "source": [
    "- `df` adalah *DataFrame*, yang merupakan fungsi berasal dari pustaka Pandas. ini merupakan struktur data 2D seperti pada Excel. \n",
    "- `df` membaca file yang dimuat yaitu `heart_disease_uci.csv` dengan perintah agar menyuruh dimuat dengan memanfaatkan method `read_csv()` dari library Pandas.\n",
    "- `df =` *(nama var pandas)*`.read_`*(tipe file data)*`('`(path file data)`')`\n",
    "\n",
    "> Yang dari Java mungkin kaget karena tidak ada inisialisasi, tapi inilah Python, karena Python adalah bahasa pemrograman yang dinamis."
   ]
  },
  {
   "cell_type": "markdown",
   "metadata": {},
   "source": [
    "### Eksplorasi Awal\n",
    "\n",
    "---"
   ]
  },
  {
   "cell_type": "markdown",
   "metadata": {},
   "source": [
    "#### 1. Tampilkan 5 baris pertama dan terakhir dari dataset.\n",
    "\n"
   ]
  },
  {
   "cell_type": "markdown",
   "metadata": {},
   "source": [
    "gunakan method `head()` dari library Pandas lalu gunakan fungsi `print()` untuk menampilkan 5 baris pertama."
   ]
  },
  {
   "cell_type": "code",
   "execution_count": 36,
   "metadata": {},
   "outputs": [
    {
     "name": "stdout",
     "output_type": "stream",
     "text": [
      "   id  age     sex    dataset               cp  trestbps   chol    fbs  \\\n",
      "0   1   63    Male  Cleveland   typical angina     145.0  233.0   True   \n",
      "1   2   67    Male  Cleveland     asymptomatic     160.0  286.0  False   \n",
      "2   3   67    Male  Cleveland     asymptomatic     120.0  229.0  False   \n",
      "3   4   37    Male  Cleveland      non-anginal     130.0  250.0  False   \n",
      "4   5   41  Female  Cleveland  atypical angina     130.0  204.0  False   \n",
      "\n",
      "          restecg  thalch  exang  oldpeak        slope   ca  \\\n",
      "0  lv hypertrophy   150.0  False      2.3  downsloping  0.0   \n",
      "1  lv hypertrophy   108.0   True      1.5         flat  3.0   \n",
      "2  lv hypertrophy   129.0   True      2.6         flat  2.0   \n",
      "3          normal   187.0  False      3.5  downsloping  0.0   \n",
      "4  lv hypertrophy   172.0  False      1.4    upsloping  0.0   \n",
      "\n",
      "                thal  num  \n",
      "0       fixed defect    0  \n",
      "1             normal    2  \n",
      "2  reversable defect    1  \n",
      "3             normal    0  \n",
      "4             normal    0  \n"
     ]
    }
   ],
   "source": [
    "print(df.head())"
   ]
  },
  {
   "cell_type": "markdown",
   "metadata": {},
   "source": [
    "gunakan method `tail()` dari library Pandas lalu gunakan fungsi `print()` untuk menampilkan 5 baris terakhir."
   ]
  },
  {
   "cell_type": "code",
   "execution_count": 37,
   "metadata": {},
   "outputs": [
    {
     "name": "stdout",
     "output_type": "stream",
     "text": [
      "      id  age     sex        dataset               cp  trestbps   chol    fbs  \\\n",
      "915  916   54  Female  VA Long Beach     asymptomatic     127.0  333.0   True   \n",
      "916  917   62    Male  VA Long Beach   typical angina       NaN  139.0  False   \n",
      "917  918   55    Male  VA Long Beach     asymptomatic     122.0  223.0   True   \n",
      "918  919   58    Male  VA Long Beach     asymptomatic       NaN  385.0   True   \n",
      "919  920   62    Male  VA Long Beach  atypical angina     120.0  254.0  False   \n",
      "\n",
      "              restecg  thalch  exang  oldpeak slope  ca          thal  num  \n",
      "915  st-t abnormality   154.0  False      0.0   NaN NaN           NaN    1  \n",
      "916  st-t abnormality     NaN    NaN      NaN   NaN NaN           NaN    0  \n",
      "917  st-t abnormality   100.0  False      0.0   NaN NaN  fixed defect    2  \n",
      "918    lv hypertrophy     NaN    NaN      NaN   NaN NaN           NaN    0  \n",
      "919    lv hypertrophy    93.0   True      0.0   NaN NaN           NaN    1  \n"
     ]
    }
   ],
   "source": [
    "print(df.tail())"
   ]
  },
  {
   "cell_type": "markdown",
   "metadata": {},
   "source": [
    "#### 2. Lihat informasi tentang dataset (tipe data, jumlah entri, jumlah kolom)."
   ]
  },
  {
   "cell_type": "markdown",
   "metadata": {},
   "source": [
    "gunakan method `dtypes` dari library Pandas lalu gunakan fungsi `print()` untuk menampilkan tipe data masing-masing kolom."
   ]
  },
  {
   "cell_type": "code",
   "execution_count": 38,
   "metadata": {},
   "outputs": [
    {
     "name": "stdout",
     "output_type": "stream",
     "text": [
      "id            int64\n",
      "age           int64\n",
      "sex          object\n",
      "dataset      object\n",
      "cp           object\n",
      "trestbps    float64\n",
      "chol        float64\n",
      "fbs          object\n",
      "restecg      object\n",
      "thalch      float64\n",
      "exang        object\n",
      "oldpeak     float64\n",
      "slope        object\n",
      "ca          float64\n",
      "thal         object\n",
      "num           int64\n",
      "dtype: object\n"
     ]
    }
   ],
   "source": [
    "print(df.dtypes)"
   ]
  },
  {
   "cell_type": "markdown",
   "metadata": {},
   "source": [
    "gunakan method `count()` dari library Pandas lalu gunakan fungsi `print()` untuk menampilkan jumlah entri (bukan null) di masing-masing kolom."
   ]
  },
  {
   "cell_type": "code",
   "execution_count": 39,
   "metadata": {},
   "outputs": [
    {
     "name": "stdout",
     "output_type": "stream",
     "text": [
      "id          920\n",
      "age         920\n",
      "sex         920\n",
      "dataset     920\n",
      "cp          920\n",
      "trestbps    861\n",
      "chol        890\n",
      "fbs         830\n",
      "restecg     918\n",
      "thalch      865\n",
      "exang       865\n",
      "oldpeak     858\n",
      "slope       611\n",
      "ca          309\n",
      "thal        434\n",
      "num         920\n",
      "dtype: int64\n"
     ]
    }
   ],
   "source": [
    "print(df.count())"
   ]
  },
  {
   "cell_type": "markdown",
   "metadata": {},
   "source": [
    "gunakan method `shape[1]` dari library Pandas lalu gunakan fungsi `print()` untuk menampilkan jumlah Menampilkan jumlah kolom di dataset.\n",
    "\n",
    "> - df.shape[0]: Menunjukkan jumlah baris (rows) dalam DataFrame.\n",
    "> - df.shape[1]: Menunjukkan jumlah kolom (columns) dalam DataFrame.\n",
    "\n",
    "untuk lebih singkat, kita gunakan `f` dalam string agar bisa nambahin kode atau ekspresi python kedalam string pakai `{}` dibandingkan dengan metode format string lama seperti `str.format()` atau `%` operator. \n",
    "\n",
    "> jika di Java pakai `String.format()`"
   ]
  },
  {
   "cell_type": "code",
   "execution_count": 40,
   "metadata": {},
   "outputs": [
    {
     "name": "stdout",
     "output_type": "stream",
     "text": [
      "Jumlah kolom: 16\n"
     ]
    }
   ],
   "source": [
    "print(f\"Jumlah kolom: {df.shape[1]}\")"
   ]
  },
  {
   "cell_type": "markdown",
   "metadata": {},
   "source": [
    "FYI : Semua bisa disingkat pakai method `info()`."
   ]
  },
  {
   "cell_type": "code",
   "execution_count": 41,
   "metadata": {},
   "outputs": [
    {
     "name": "stdout",
     "output_type": "stream",
     "text": [
      "<class 'pandas.core.frame.DataFrame'>\n",
      "RangeIndex: 920 entries, 0 to 919\n",
      "Data columns (total 16 columns):\n",
      " #   Column    Non-Null Count  Dtype  \n",
      "---  ------    --------------  -----  \n",
      " 0   id        920 non-null    int64  \n",
      " 1   age       920 non-null    int64  \n",
      " 2   sex       920 non-null    object \n",
      " 3   dataset   920 non-null    object \n",
      " 4   cp        920 non-null    object \n",
      " 5   trestbps  861 non-null    float64\n",
      " 6   chol      890 non-null    float64\n",
      " 7   fbs       830 non-null    object \n",
      " 8   restecg   918 non-null    object \n",
      " 9   thalch    865 non-null    float64\n",
      " 10  exang     865 non-null    object \n",
      " 11  oldpeak   858 non-null    float64\n",
      " 12  slope     611 non-null    object \n",
      " 13  ca        309 non-null    float64\n",
      " 14  thal      434 non-null    object \n",
      " 15  num       920 non-null    int64  \n",
      "dtypes: float64(5), int64(3), object(8)\n",
      "memory usage: 115.1+ KB\n"
     ]
    }
   ],
   "source": [
    "df.info()"
   ]
  },
  {
   "cell_type": "markdown",
   "metadata": {},
   "source": [
    "\n",
    "#### 3. Cek nilai missing dan outliers."
   ]
  },
  {
   "cell_type": "markdown",
   "metadata": {},
   "source": [
    "**Nilai Missing** \n",
    "\n",
    "buat variabel yang akan digunakan sebagai variabel untuk nilai missing (saya gunakan `nilaiMissing`) lalu gunakan method `isnull` dari library Pandas, sertakan dengan fungsi `sum()` untuk menjumlahkan nilai missing lalu gunakan fungsi `print()` untuk menampilkan.\n",
    "\n",
    "`[nilaiMissing > 0]` berfungsi menampilkan data pada `nilaiMissing` yang bernilai diatas 0."
   ]
  },
  {
   "cell_type": "code",
   "execution_count": 44,
   "metadata": {},
   "outputs": [
    {
     "name": "stdout",
     "output_type": "stream",
     "text": [
      "id            0\n",
      "age           0\n",
      "sex           0\n",
      "dataset       0\n",
      "cp            0\n",
      "trestbps     59\n",
      "chol         30\n",
      "fbs          90\n",
      "restecg       2\n",
      "thalch       55\n",
      "exang        55\n",
      "oldpeak      62\n",
      "slope       309\n",
      "ca          611\n",
      "thal        486\n",
      "num           0\n",
      "dtype: int64\n",
      "Kolom dengan missing values:\n",
      "trestbps     59\n",
      "chol         30\n",
      "fbs          90\n",
      "restecg       2\n",
      "thalch       55\n",
      "exang        55\n",
      "oldpeak      62\n",
      "slope       309\n",
      "ca          611\n",
      "thal        486\n",
      "dtype: int64\n"
     ]
    }
   ],
   "source": [
    "nilaiMissing = df.isnull().sum()\n",
    "print(nilaiMissing)\n",
    "\n",
    "# Menampilkan kolom dengan jumlah missing values\n",
    "print(\"Kolom dengan missing values:\")\n",
    "print(nilaiMissing[nilaiMissing > 0])\n"
   ]
  },
  {
   "cell_type": "markdown",
   "metadata": {},
   "source": [
    "**Nilai Outlier**\n",
    "\n",
    "Disini, saya menggunakan menggunakan metode IQR (Interquartile Range).\n",
    "\n",
    "- `for` melakukan pengulangan sebanyak `column` di atau `in` variabel `df` yang memilih semua kolom dataframe yang memiliki tipe data numerik dengan method `select_dtypes(include=['float64', 'int64']),`. fungsi itu mencakup tipedata *float64* dan *int64*\n",
    "\n",
    "- `Q1` merupakan variabel untuk menyimpan quartil 1. `df[colum]` merupakan perintah untuk mengakses kolom yang dituju dan method `quantile()` untuk menghitung nilai kuartil. lakukan ini untuk `Q2`.\n",
    "  > Quartil 1 : 25% atau 0.25  \n",
    "  > Quartil 3 : 75% atau 0.75\n",
    "\n",
    "- `IQR` adlah variabel untuk nilai Interquartile Range (IQR).\n",
    "  > IQR adalah jarak antara quartil 1 dan quartil 3.\n",
    "  > Rumusnya `IQR = Q3 - Q1`\n",
    "\n",
    "- Untuk menghitung batas bawah dan batas atas, saya membuat variabel `batasBawah` dan `batasAtas` \n",
    "  > Rumus batas atas = `Q1 - 1.5 * IQR`\n",
    "  > Rumus batas bawah = `Q3 + 1.5 * IQR`\n",
    "\n",
    "- kita akan memfilter outlier agar hanya menampilkan outlier pada variabel `outlier`. gunakan `[column] < batasBawah`  untuk menyeleksi nilai yang lebih kecil dari nilai `batasBawah` dan `[column] > batasAtas` untuk menyeleksi nilai yang lebih besar dari nilai `batasAtas` lalu gunakan operator OR (`|`) untuk menampilkan kedua syarat diatas.\n",
    "- variabel `angkaOutlier` mengambil data `outlier` dan mengembalikan baris menggunakan method `shape[0]`\n"
   ]
  },
  {
   "cell_type": "code",
   "execution_count": 10,
   "metadata": {},
   "outputs": [
    {
     "name": "stdout",
     "output_type": "stream",
     "text": [
      "id: 0 outliers\n",
      "age: 0 outliers\n",
      "trestbps: 28 outliers\n",
      "chol: 183 outliers\n",
      "thalch: 2 outliers\n",
      "oldpeak: 16 outliers\n",
      "ca: 20 outliers\n",
      "num: 0 outliers\n"
     ]
    }
   ],
   "source": [
    "for column in df.select_dtypes(include=['float64', 'int64']).columns:\n",
    "    Q1 = df[column].quantile(0.25)\n",
    "    Q3 = df[column].quantile(0.75)\n",
    "    IQR = Q3 - Q1\n",
    "    batasBawah = Q1 - 1.5 * IQR\n",
    "    batasAtas = Q3 + 1.5 * IQR\n",
    "    \n",
    "    # Mendeteksi outliers\n",
    "    outliers = df[(df[column] < batasBawah) | (df[column] > batasAtas)]\n",
    "    angkaOutlier = outliers.shape[0]\n",
    "    \n",
    "    print(f\"{column}: {angkaOutlier} outliers\")\n"
   ]
  }
 ],
 "metadata": {
  "kernelspec": {
   "display_name": "base",
   "language": "python",
   "name": "python3"
  },
  "language_info": {
   "codemirror_mode": {
    "name": "ipython",
    "version": 3
   },
   "file_extension": ".py",
   "mimetype": "text/x-python",
   "name": "python",
   "nbconvert_exporter": "python",
   "pygments_lexer": "ipython3",
   "version": "3.12.4"
  }
 },
 "nbformat": 4,
 "nbformat_minor": 2
}
